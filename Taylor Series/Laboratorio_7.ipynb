{
  "nbformat": 4,
  "nbformat_minor": 0,
  "metadata": {
    "colab": {
      "name": "Laboratorio 7.ipynb",
      "provenance": []
    },
    "kernelspec": {
      "name": "python3",
      "display_name": "Python 3"
    }
  },
  "cells": [
    {
      "cell_type": "markdown",
      "metadata": {
        "id": "Xep_baroXuah"
      },
      "source": [
        "#1.\n"
      ]
    },
    {
      "cell_type": "code",
      "metadata": {
        "colab": {
          "base_uri": "https://localhost:8080/"
        },
        "id": "RRM--vrjTnbc",
        "outputId": "837f091a-3210-4ee5-b73d-0eca084bd94f"
      },
      "source": [
        "import math\n",
        "\n",
        "x = 3\n",
        "e_to_3 = x**0/math.factorial(0) + x**1/math.factorial(1) + x**2/math.factorial(2) + x**3/math.factorial(3) + x**4/math.factorial(4)\n",
        "print(e_to_3)"
      ],
      "execution_count": 1,
      "outputs": [
        {
          "output_type": "stream",
          "text": [
            "16.375\n"
          ],
          "name": "stdout"
        }
      ]
    },
    {
      "cell_type": "code",
      "metadata": {
        "colab": {
          "base_uri": "https://localhost:8080/"
        },
        "id": "PPcLjVyWUFoK",
        "outputId": "80c08a76-cec4-40c3-9d72-b0ebebb5353c"
      },
      "source": [
        "print(math.exp(3))"
      ],
      "execution_count": 2,
      "outputs": [
        {
          "output_type": "stream",
          "text": [
            "20.085536923187668\n"
          ],
          "name": "stdout"
        }
      ]
    },
    {
      "cell_type": "code",
      "metadata": {
        "colab": {
          "base_uri": "https://localhost:8080/"
        },
        "id": "4vZ_ll_XUmws",
        "outputId": "ddb69ef1-b08b-49b2-e312-ca734a6a809a"
      },
      "source": [
        "x = 3\n",
        "e_to_3 = 0\n",
        "for i in range(5):\n",
        "    e_to_3 += x**i/math.factorial(i)\n",
        "    \n",
        "print(e_to_3)"
      ],
      "execution_count": 3,
      "outputs": [
        {
          "output_type": "stream",
          "text": [
            "16.375\n"
          ],
          "name": "stdout"
        }
      ]
    },
    {
      "cell_type": "code",
      "metadata": {
        "colab": {
          "base_uri": "https://localhost:8080/"
        },
        "id": "09qfaaK3UyaF",
        "outputId": "17472cd6-947b-49d5-c3cd-92e205094d38"
      },
      "source": [
        "x = 3\n",
        "e_to_3 = 0\n",
        "for i in range(10):\n",
        "    e_to_3 += x**i/math.factorial(i)\n",
        "    \n",
        "print(e_to_3)"
      ],
      "execution_count": 4,
      "outputs": [
        {
          "output_type": "stream",
          "text": [
            "20.063392857142855\n"
          ],
          "name": "stdout"
        }
      ]
    },
    {
      "cell_type": "code",
      "metadata": {
        "colab": {
          "base_uri": "https://localhost:8080/"
        },
        "id": "XJ7DEeYPU4oy",
        "outputId": "23641a32-2b6c-4f86-bdef-fab4180ca88c"
      },
      "source": [
        "print(math.exp(3))"
      ],
      "execution_count": 5,
      "outputs": [
        {
          "output_type": "stream",
          "text": [
            "20.085536923187668\n"
          ],
          "name": "stdout"
        }
      ]
    },
    {
      "cell_type": "code",
      "metadata": {
        "id": "DhWU3H1OU_ij"
      },
      "source": [
        "def func_e_to_3(n):\n",
        "    x = 3\n",
        "    e_to_3 = 0\n",
        "    for i in range(n):\n",
        "        e_to_3 += x**i/math.factorial(i)\n",
        "    \n",
        "    return e_to_3\n"
      ],
      "execution_count": 6,
      "outputs": []
    },
    {
      "cell_type": "code",
      "metadata": {
        "colab": {
          "base_uri": "https://localhost:8080/"
        },
        "id": "6UhWfT4UVDLR",
        "outputId": "019c4087-30b5-4452-d74f-51ea2b19cdf7"
      },
      "source": [
        "output = func_e_to_3(10)\n",
        "print(output)"
      ],
      "execution_count": 7,
      "outputs": [
        {
          "output_type": "stream",
          "text": [
            "20.063392857142855\n"
          ],
          "name": "stdout"
        }
      ]
    },
    {
      "cell_type": "code",
      "metadata": {
        "id": "aOZ_oAyvVIkP"
      },
      "source": [
        "def func_e(x, n):\n",
        "    e_approx = 0\n",
        "    for i in range(n):\n",
        "        e_approx += x**i/math.factorial(i)\n",
        "    \n",
        "    return e_approx"
      ],
      "execution_count": 8,
      "outputs": []
    },
    {
      "cell_type": "code",
      "metadata": {
        "colab": {
          "base_uri": "https://localhost:8080/"
        },
        "id": "hHH-sABXVNMk",
        "outputId": "36572154-405c-4447-fcd7-5bff6ed3ed7b"
      },
      "source": [
        "out = func_e(3,10)\n",
        "print(out)"
      ],
      "execution_count": 9,
      "outputs": [
        {
          "output_type": "stream",
          "text": [
            "20.063392857142855\n"
          ],
          "name": "stdout"
        }
      ]
    },
    {
      "cell_type": "code",
      "metadata": {
        "colab": {
          "base_uri": "https://localhost:8080/"
        },
        "id": "ESMVjZuFVQQa",
        "outputId": "79fc59f1-60c2-4fc2-ff3e-f1d514dc2342"
      },
      "source": [
        "out = func_e(6,10)\n",
        "print(out)"
      ],
      "execution_count": 10,
      "outputs": [
        {
          "output_type": "stream",
          "text": [
            "369.57142857142856\n"
          ],
          "name": "stdout"
        }
      ]
    },
    {
      "cell_type": "code",
      "metadata": {
        "colab": {
          "base_uri": "https://localhost:8080/"
        },
        "id": "oztAAiNUVTjF",
        "outputId": "b33e5a43-17b0-46d5-8fc7-62b6b5c9bb36"
      },
      "source": [
        "out = math.exp(6)\n",
        "print(out)"
      ],
      "execution_count": 11,
      "outputs": [
        {
          "output_type": "stream",
          "text": [
            "403.4287934927351\n"
          ],
          "name": "stdout"
        }
      ]
    },
    {
      "cell_type": "code",
      "metadata": {
        "colab": {
          "base_uri": "https://localhost:8080/"
        },
        "id": "uL_iJDm9VbI_",
        "outputId": "2b23da88-0d0c-42f5-df62-4bb3a1266570"
      },
      "source": [
        "x = 6\n",
        "for i in range(1,11):\n",
        "    e_approx = func_e(x,i)\n",
        "    e_exp = math.exp(x)\n",
        "    e_error = abs(e_approx - e_exp)\n",
        "    print(f'{i}. Serie Taylor = {e_approx}, funcion exp = {e_exp}, error = {e_error}')"
      ],
      "execution_count": 12,
      "outputs": [
        {
          "output_type": "stream",
          "text": [
            "1. Serie Taylor = 1.0, funcion exp = 403.4287934927351, error = 402.4287934927351\n",
            "2. Serie Taylor = 7.0, funcion exp = 403.4287934927351, error = 396.4287934927351\n",
            "3. Serie Taylor = 25.0, funcion exp = 403.4287934927351, error = 378.4287934927351\n",
            "4. Serie Taylor = 61.0, funcion exp = 403.4287934927351, error = 342.4287934927351\n",
            "5. Serie Taylor = 115.0, funcion exp = 403.4287934927351, error = 288.4287934927351\n",
            "6. Serie Taylor = 179.8, funcion exp = 403.4287934927351, error = 223.6287934927351\n",
            "7. Serie Taylor = 244.60000000000002, funcion exp = 403.4287934927351, error = 158.8287934927351\n",
            "8. Serie Taylor = 300.14285714285717, funcion exp = 403.4287934927351, error = 103.28593634987794\n",
            "9. Serie Taylor = 341.8, funcion exp = 403.4287934927351, error = 61.6287934927351\n",
            "10. Serie Taylor = 369.57142857142856, funcion exp = 403.4287934927351, error = 33.857364921306555\n"
          ],
          "name": "stdout"
        }
      ]
    },
    {
      "cell_type": "code",
      "metadata": {
        "colab": {
          "base_uri": "https://localhost:8080/"
        },
        "id": "FlIqgxk8WCRy",
        "outputId": "6c839604-3a9d-447a-bdf9-207365b2a794"
      },
      "source": [
        "x = 6\n",
        "for i in range(1,20):\n",
        "    e_approx = func_e(x,i)\n",
        "    e_exp = math.exp(x)\n",
        "    e_error = abs(e_approx - e_exp)\n",
        "    if e_error < 1:\n",
        "        break\n",
        "        \n",
        "print(f'{i}. Serie Taylor = {e_approx}, funcion exp = {e_exp}, error = {e_error}')"
      ],
      "execution_count": 13,
      "outputs": [
        {
          "output_type": "stream",
          "text": [
            "15. Serie Taylor = 402.86385043527895, funcion exp = 403.4287934927351, error = 0.564943057456162\n"
          ],
          "name": "stdout"
        }
      ]
    },
    {
      "cell_type": "code",
      "metadata": {
        "id": "--kQVlfWWOK3"
      },
      "source": [
        "def func_coseno(x, n):\n",
        "    cos_approx = 0\n",
        "    for i in range(n):\n",
        "        coef = (-1)**i\n",
        "        num = x**(2*i)\n",
        "        denom = math.factorial(2*i)\n",
        "        cos_approx += ( coef ) * ( (num)/(denom) )\n",
        "    \n",
        "    return cos_approx"
      ],
      "execution_count": 14,
      "outputs": []
    },
    {
      "cell_type": "code",
      "metadata": {
        "colab": {
          "base_uri": "https://localhost:8080/"
        },
        "id": "FrxXHcWpWVLi",
        "outputId": "207a079e-6cd3-4371-9229-53b4a6146a79"
      },
      "source": [
        "angulo_radianes = (math.radians(45))\n",
        "output = func_coseno(angulo_radianes,5)\n",
        "print(output)"
      ],
      "execution_count": 15,
      "outputs": [
        {
          "output_type": "stream",
          "text": [
            "0.7071068056832942\n"
          ],
          "name": "stdout"
        }
      ]
    },
    {
      "cell_type": "code",
      "metadata": {
        "colab": {
          "base_uri": "https://localhost:8080/"
        },
        "id": "X0iR8IFAWfSn",
        "outputId": "7d5cd845-3a77-4687-f4fd-1d07c6eabf90"
      },
      "source": [
        "output = math.cos(angulo_radianes)\n",
        "print(output)"
      ],
      "execution_count": 16,
      "outputs": [
        {
          "output_type": "stream",
          "text": [
            "0.7071067811865476\n"
          ],
          "name": "stdout"
        }
      ]
    },
    {
      "cell_type": "code",
      "metadata": {
        "colab": {
          "base_uri": "https://localhost:8080/",
          "height": 265
        },
        "id": "-nn57BOCWo6L",
        "outputId": "7ff13bf6-1462-4f68-f08f-564079674830"
      },
      "source": [
        "import numpy as np\n",
        "import matplotlib.pyplot as plt\n",
        "# if using a Jupyter notebook, include:\n",
        "%matplotlib inline\n",
        "\n",
        "angulos = np.arange(-2*np.pi,2*np.pi,0.1)\n",
        "p_coseno = np.cos(angulos)\n",
        "t_coseno = [func_coseno(angulo,5) for angulo in angulos]\n",
        "\n",
        "fig, ax = plt.subplots()\n",
        "ax.plot(angulos,p_coseno)\n",
        "ax.plot(angulos,t_coseno)\n",
        "ax.set_ylim([-5,5])\n",
        "ax.legend(['Funcion Coseno','Serie Taylor a 5 terminos'])\n",
        "\n",
        "plt.show()"
      ],
      "execution_count": 17,
      "outputs": [
        {
          "output_type": "display_data",
          "data": {
            "image/png": "[encoded data removed]",
            "text/plain": [
              "<Figure size 432x288 with 1 Axes>"
            ]
          },
          "metadata": {
            "tags": [],
            "needs_background": "light"
          }
        }
      ]
    },
    {
      "cell_type": "code",
      "metadata": {
        "colab": {
          "base_uri": "https://localhost:8080/",
          "height": 269
        },
        "id": "FCilm_71XQy5",
        "outputId": "30dc4a76-c0b6-41aa-b3c4-43e60df5e5aa"
      },
      "source": [
        "%matplotlib inline\n",
        "\n",
        "angulos = np.arange(-2*np.pi,2*np.pi,0.1)\n",
        "p_cos = np.cos(angulos)\n",
        "\n",
        "fig, ax = plt.subplots()\n",
        "ax.plot(angulos,p_cos)\n",
        "\n",
        "# add lines for between 1 and 6 terms in the Taylor Series\n",
        "for i in range(1,6):\n",
        "    t_cos = [func_coseno(angulo,i) for angulo in angulos]\n",
        "    ax.plot(angulos,t_cos)\n",
        "\n",
        "ax.set_ylim([-7,4])\n",
        "\n",
        "# set up legend\n",
        "legend_lst = ['Funcion coseno']\n",
        "for i in range(1,6):\n",
        "    legend_lst.append(f'Serie Taylor a {i} terminos')\n",
        "ax.legend(legend_lst, loc=3)\n",
        "\n",
        "plt.show()"
      ],
      "execution_count": 18,
      "outputs": [
        {
          "output_type": "display_data",
          "data": {
            "image/png": "[encoded data removed]",
            "text/plain": [
              "<Figure size 432x288 with 1 Axes>"
            ]
          },
          "metadata": {
            "tags": [],
            "needs_background": "light"
          }
        }
      ]
    },
    {
      "cell_type": "markdown",
      "metadata": {
        "id": "ejQfN1GQXrXJ"
      },
      "source": [
        "#2.\n"
      ]
    },
    {
      "cell_type": "code",
      "metadata": {
        "colab": {
          "base_uri": "https://localhost:8080/"
        },
        "id": "01E1U5VGXtFx",
        "outputId": "34620d83-a5d7-4418-a1b3-c6ec3e9ac2fc"
      },
      "source": [
        "x = 4\n",
        "e_to_4 = x**0/math.factorial(0) + x**1/math.factorial(1) + x**2/math.factorial(2) + x**3/math.factorial(3) + x**4/math.factorial(4)\n",
        "print(e_to_4)"
      ],
      "execution_count": 19,
      "outputs": [
        {
          "output_type": "stream",
          "text": [
            "34.33333333333333\n"
          ],
          "name": "stdout"
        }
      ]
    },
    {
      "cell_type": "code",
      "metadata": {
        "colab": {
          "base_uri": "https://localhost:8080/"
        },
        "id": "jQAD1yZhYGWA",
        "outputId": "e937578d-35a0-47ab-9ebf-596a028662c9"
      },
      "source": [
        "print(math.exp(4))"
      ],
      "execution_count": 20,
      "outputs": [
        {
          "output_type": "stream",
          "text": [
            "54.598150033144236\n"
          ],
          "name": "stdout"
        }
      ]
    },
    {
      "cell_type": "code",
      "metadata": {
        "colab": {
          "base_uri": "https://localhost:8080/"
        },
        "id": "YI242ZisYIxu",
        "outputId": "80c1b612-2e76-4d3b-92d8-6feb4f078de5"
      },
      "source": [
        "x = 4\n",
        "e_to_4 = 0\n",
        "for i in range(10):\n",
        "    e_to_4 += x**i/math.factorial(i) \n",
        "print(e_to_4)"
      ],
      "execution_count": 21,
      "outputs": [
        {
          "output_type": "stream",
          "text": [
            "54.15414462081129\n"
          ],
          "name": "stdout"
        }
      ]
    },
    {
      "cell_type": "code",
      "metadata": {
        "colab": {
          "base_uri": "https://localhost:8080/"
        },
        "id": "D_-ttyN1YNoT",
        "outputId": "0a921b3f-ae72-4cbc-deb6-d719b6e6df1a"
      },
      "source": [
        "x = 10\n",
        "epsilon = 10**(-4)\n",
        "\n",
        "for k in range(1000):\n",
        "  if (  ( (math.exp(x) * x**(k+1)) / math.factorial(k+1) ) < epsilon):\n",
        "    break\n",
        "print(k)\n",
        "\n",
        "e_to_x = 0\n",
        "for i in range(k):\n",
        "    print(i,' ',e_to_x, ' delta ', x**i/math.factorial(i))\n",
        "    e_to_x += x**i/math.factorial(i) \n",
        "    \n",
        "print('math.exp(10) = ',math.exp(10))"
      ],
      "execution_count": 22,
      "outputs": [
        {
          "output_type": "stream",
          "text": [
            "40\n",
            "0   0  delta  1.0\n",
            "1   1.0  delta  10.0\n",
            "2   11.0  delta  50.0\n",
            "3   61.0  delta  166.66666666666666\n",
            "4   227.66666666666666  delta  416.6666666666667\n",
            "5   644.3333333333334  delta  833.3333333333334\n",
            "6   1477.6666666666667  delta  1388.888888888889\n",
            "7   2866.5555555555557  delta  1984.126984126984\n",
            "8   4850.68253968254  delta  2480.15873015873\n",
            "9   7330.84126984127  delta  2755.731922398589\n",
            "10   10086.573192239859  delta  2755.731922398589\n",
            "11   12842.305114638448  delta  2505.210838544172\n",
            "12   15347.51595318262  delta  2087.67569878681\n",
            "13   17435.191651969428  delta  1605.9043836821616\n",
            "14   19041.09603565159  delta  1147.0745597729724\n",
            "15   20188.170595424563  delta  764.7163731819817\n",
            "16   20952.886968606545  delta  477.9477332387385\n",
            "17   21430.834701845284  delta  281.14572543455205\n",
            "18   21711.980427279836  delta  156.19206968586226\n",
            "19   21868.172496965697  delta  82.2063524662433\n",
            "20   21950.37884943194  delta  41.10317623312165\n",
            "21   21991.482025665064  delta  19.572941063391262\n",
            "22   22011.054966728454  delta  8.896791392450574\n",
            "23   22019.951758120904  delta  3.868170170630684\n",
            "24   22023.819928291534  delta  1.6117375710961184\n",
            "25   22025.43166586263  delta  0.6446950284384474\n",
            "26   22026.076360891067  delta  0.24795962632247975\n",
            "27   22026.32432051739  delta  0.09183689863795547\n",
            "28   22026.416157416028  delta  0.03279889237069838\n",
            "29   22026.4489563084  delta  0.011309962886447717\n",
            "30   22026.460266271286  delta  0.003769987628815906\n",
            "31   22026.464036258916  delta  0.001216125041553518\n",
            "32   22026.465252383958  delta  0.00038003907548547436\n",
            "33   22026.465632423035  delta  0.0001151633562077195\n",
            "34   22026.46574758639  delta  3.3871575355211616e-05\n",
            "35   22026.465781457966  delta  9.677592958631891e-06\n",
            "36   22026.465791135557  delta  2.6882202662866364e-06\n",
            "37   22026.465793823776  delta  7.265460179153071e-07\n",
            "38   22026.46579455032  delta  1.9119632050402818e-07\n",
            "39   22026.465794741518  delta  4.9024697565135436e-08\n",
            "math.exp(10) =  22026.465794806718\n"
          ],
          "name": "stdout"
        }
      ]
    },
    {
      "cell_type": "code",
      "metadata": {
        "colab": {
          "base_uri": "https://localhost:8080/"
        },
        "id": "BqoYcrw7YNfl",
        "outputId": "2377e61b-c0c8-4f19-9f7f-6f4f0fc54b32"
      },
      "source": [
        "x = 12\n",
        "epsilon = 12**(-16)\n",
        "\n",
        "for k in range(1000):\n",
        "  if (  ( (3**x * x**(k+1)) / math.factorial(k+1) ) < epsilon):\n",
        "    break\n",
        "print(k)\n",
        "\n",
        "e_to_x = 0\n",
        "for i in range(k+1):\n",
        "    print(i,' ',e_to_x, ' delta ', x**i/math.factorial(i))\n",
        "    e_to_x += x**i/math.factorial(i) \n",
        "    \n",
        "print('math.exp(12) = ',math.exp(12))"
      ],
      "execution_count": 23,
      "outputs": [
        {
          "output_type": "stream",
          "text": [
            "67\n",
            "0   0  delta  1.0\n",
            "1   1.0  delta  12.0\n",
            "2   13.0  delta  72.0\n",
            "3   85.0  delta  288.0\n",
            "4   373.0  delta  864.0\n",
            "5   1237.0  delta  2073.6\n",
            "6   3310.6  delta  4147.2\n",
            "7   7457.799999999999  delta  7109.4857142857145\n",
            "8   14567.285714285714  delta  10664.228571428572\n",
            "9   25231.514285714286  delta  14218.971428571429\n",
            "10   39450.485714285714  delta  17062.765714285713\n",
            "11   56513.25142857143  delta  18613.926233766233\n",
            "12   75127.17766233766  delta  18613.926233766233\n",
            "13   93741.1038961039  delta  17182.085754245752\n",
            "14   110923.18965034965  delta  14727.502075067789\n",
            "15   125650.69172541745  delta  11782.001660054231\n",
            "16   137432.69338547168  delta  8836.501245040674\n",
            "17   146269.19463051236  delta  6237.530290616946\n",
            "18   152506.7249211293  delta  4158.353527077964\n",
            "19   156665.07844820726  delta  2626.3285434176614\n",
            "20   159291.4069916249  delta  1575.797126050597\n",
            "21   160867.20411767552  delta  900.4555006003411\n",
            "22   161767.65961827585  delta  491.1575457820042\n",
            "23   162258.81716405787  delta  256.25611084278484\n",
            "24   162515.07327490064  delta  128.12805542139242\n",
            "25   162643.20133032204  delta  61.50146660226836\n",
            "26   162704.7027969243  delta  28.38529227797001\n",
            "27   162733.08808920227  delta  12.61568545687556\n",
            "28   162745.70377465914  delta  5.406722338660955\n",
            "29   162751.1104969978  delta  2.2372644159976365\n",
            "30   162753.3477614138  delta  0.8949057663990545\n",
            "31   162754.2426671802  delta  0.3464151353802792\n",
            "32   162754.58908231556  delta  0.1299056757676047\n",
            "33   162754.71898799133  delta  0.04723842755185625\n",
            "34   162754.7662264189  delta  0.016672386194772792\n",
            "35   162754.7828988051  delta  0.005716246695350672\n",
            "36   162754.7886150518  delta  0.0019054155651168907\n",
            "37   162754.79052046736  delta  0.0006179726157135862\n",
            "38   162754.79113843996  delta  0.00019514924706744827\n",
            "39   162754.7913335892  delta  6.0045922174599465e-05\n",
            "40   162754.79139363513  delta  1.801377665237984e-05\n",
            "41   162754.7914116489  delta  5.2723248738672705e-06\n",
            "42   162754.79141692125  delta  1.5063785353906487e-06\n",
            "43   162754.79141842763  delta  4.203847075508787e-07\n",
            "44   162754.791418848  delta  1.1465037478660328e-07\n",
            "45   162754.79141896265  delta  3.057343327642754e-08\n",
            "46   162754.7914189932  delta  7.975678246024576e-09\n",
            "47   162754.79141900118  delta  2.0363433819637216e-09\n",
            "48   162754.79141900322  delta  5.090858454909304e-10\n",
            "49   162754.7914190037  delta  1.2467408461002378e-10\n",
            "50   162754.79141900383  delta  2.99217803064057e-11\n",
            "51   162754.79141900386  delta  7.0404188956248715e-12\n",
            "52   162754.79141900386  delta  1.6247120528365088e-12\n",
            "53   162754.79141900386  delta  3.678593327177001e-13\n",
            "54   162754.79141900386  delta  8.174651838171114e-14\n",
            "55   162754.79141900386  delta  1.7835604010555157e-14\n",
            "56   162754.79141900386  delta  3.821915145118962e-15\n",
            "57   162754.79141900386  delta  8.046137147618868e-16\n",
            "58   162754.79141900386  delta  1.6647180305418348e-16\n",
            "59   162754.79141900386  delta  3.3858671807630535e-17\n",
            "60   162754.79141900386  delta  6.771734361526108e-18\n",
            "61   162754.79141900386  delta  1.332144464562513e-18\n",
            "62   162754.79141900386  delta  2.5783441249597025e-19\n",
            "63   162754.79141900386  delta  4.9111316665899096e-20\n",
            "64   162754.79141900386  delta  9.20837187485608e-21\n",
            "65   162754.79141900386  delta  1.7000071153580454e-21\n",
            "66   162754.79141900386  delta  3.0909220279237193e-22\n",
            "67   162754.79141900386  delta  5.535979751505169e-23\n",
            "math.exp(12) =  162754.79141900392\n"
          ],
          "name": "stdout"
        }
      ]
    },
    {
      "cell_type": "code",
      "metadata": {
        "colab": {
          "base_uri": "https://localhost:8080/"
        },
        "id": "VA8p9ubSkeHC",
        "outputId": "30a8bb44-a2c9-4502-a393-eed4bc83808f"
      },
      "source": [
        "x = 10\n",
        "epsilon = 10**(-4)\n",
        "delta = 1\n",
        "e_to_x = 0\n",
        "i = 0\n",
        "while  epsilon <= delta:\n",
        "  delta = x**i/math.factorial(i) \n",
        "  e_to_x += delta\n",
        "  i = i+1\n",
        "print(i-1) \n",
        "print('e_to_x = ',e_to_x)    \n",
        "print('math.exp(10) = ',math.exp(10))"
      ],
      "execution_count": 24,
      "outputs": [
        {
          "output_type": "stream",
          "text": [
            "34\n",
            "e_to_x =  22026.465781457966\n",
            "math.exp(10) =  22026.465794806718\n"
          ],
          "name": "stdout"
        }
      ]
    },
    {
      "cell_type": "markdown",
      "metadata": {
        "id": "tnU-7ViZkoe3"
      },
      "source": [
        "#3.\n"
      ]
    },
    {
      "cell_type": "markdown",
      "metadata": {
        "id": "YthW1wVoktFb"
      },
      "source": [
        "##ln(x+1)"
      ]
    },
    {
      "cell_type": "code",
      "metadata": {
        "colab": {
          "base_uri": "https://localhost:8080/"
        },
        "id": "zVZvppKKkpyb",
        "outputId": "93d11155-2702-410f-b6a1-aa83ed9ff90e"
      },
      "source": [
        "x = 2\n",
        "lnx_2 = x-x**2/2+x**3/3-x**4/4\n",
        "print(lnx_2)"
      ],
      "execution_count": 25,
      "outputs": [
        {
          "output_type": "stream",
          "text": [
            "-1.3333333333333335\n"
          ],
          "name": "stdout"
        }
      ]
    },
    {
      "cell_type": "code",
      "metadata": {
        "colab": {
          "base_uri": "https://localhost:8080/"
        },
        "id": "9mFBfaOMmK_d",
        "outputId": "a25f0eb4-6e23-41cc-ebb5-9635b127df70"
      },
      "source": [
        "math.log(x)"
      ],
      "execution_count": 26,
      "outputs": [
        {
          "output_type": "execute_result",
          "data": {
            "text/plain": [
              "0.6931471805599453"
            ]
          },
          "metadata": {
            "tags": []
          },
          "execution_count": 26
        }
      ]
    },
    {
      "cell_type": "code",
      "metadata": {
        "colab": {
          "base_uri": "https://localhost:8080/"
        },
        "id": "hlMCzbCqmsUo",
        "outputId": "b427bf0c-3a26-4beb-c0a4-c0e948e4fd0d"
      },
      "source": [
        "x = 2\n",
        "lnx_2 = 0\n",
        "for i in range(1,10):\n",
        "    lnx_2 += (pow(-1,i+1) * pow(x,i)) / i\n",
        "print(lnx_2)"
      ],
      "execution_count": 27,
      "outputs": [
        {
          "output_type": "stream",
          "text": [
            "37.57460317460317\n"
          ],
          "name": "stdout"
        }
      ]
    },
    {
      "cell_type": "code",
      "metadata": {
        "id": "YUqn-1rfnieY",
        "outputId": "33c776a6-693a-49ec-926f-4c5d9a8056d3",
        "colab": {
          "base_uri": "https://localhost:8080/"
        }
      },
      "source": [
        "x = 10\n",
        "epsilon = 10**(-4)\n",
        "\n",
        "for k in range(1,1000):\n",
        "  if (  ( (math.log(x) * (pow(-1,k+2) * pow(x,k+1)) / k+1) ) < epsilon):\n",
        "    break\n",
        "print(k)\n",
        "\n",
        "lnx_1 = 0\n",
        "for i in range(1,k):\n",
        "    print(i,' ',lnx_1, ' delta ', (pow(-1,i+1) * pow(x,i)) / i)\n",
        "    lnx_1 += (pow(-1,i+1) * pow(x,i)) / i \n",
        "    \n",
        "print('math.log(10) = ',math.log(10))"
      ],
      "execution_count": 28,
      "outputs": [
        {
          "output_type": "stream",
          "text": [
            "1\n",
            "math.log(10) =  2.302585092994046\n"
          ],
          "name": "stdout"
        }
      ]
    },
    {
      "cell_type": "code",
      "metadata": {
        "id": "bydMcIa9ox-M",
        "outputId": "1fa53fd1-8672-4b7b-8d4f-060c0af834e0",
        "colab": {
          "base_uri": "https://localhost:8080/"
        }
      },
      "source": [
        "x = 10\n",
        "epsilon = 10**(-16)\n",
        "\n",
        "for k in range(1,1000):\n",
        "  if (  ( (3**x)* (pow(-1,k+2) * pow(x,k+1)) / k+1 ) < epsilon):\n",
        "    break\n",
        "print(k)\n",
        "\n",
        "lnx_1 = 0\n",
        "for i in range(1,k+1):\n",
        "    print(i,' ',lnx_1, ' delta ', (pow(-1,i+1) * pow(x,i)) / i)\n",
        "    lnx_1 += (pow(-1,i+1) * pow(x,i)) / i \n",
        "    \n",
        "print('math.log(10) = ',math.log(10))"
      ],
      "execution_count": 29,
      "outputs": [
        {
          "output_type": "stream",
          "text": [
            "1\n",
            "1   0  delta  10.0\n",
            "math.log(10) =  2.302585092994046\n"
          ],
          "name": "stdout"
        }
      ]
    },
    {
      "cell_type": "code",
      "metadata": {
        "id": "Bvg2YlDJpcgg",
        "outputId": "ccc64aea-aa15-4e33-f406-2cc5a17cc89f",
        "colab": {
          "base_uri": "https://localhost:8080/"
        }
      },
      "source": [
        "x = 10\n",
        "epsilon = 10**(-4)\n",
        "delta = 1\n",
        "lnx_1 = 0\n",
        "i = 1\n",
        "while  epsilon <= delta:\n",
        "  delta = (pow(-1,i+1) * pow(x,i)) / i \n",
        "  lnx_1 += delta\n",
        "  i = i+1\n",
        "print(i-1) \n",
        "print('lnx_1 = ',lnx_1)    \n",
        "print('lnx_1 = ',math.log(10))"
      ],
      "execution_count": 30,
      "outputs": [
        {
          "output_type": "stream",
          "text": [
            "2\n",
            "lnx_1 =  -40.0\n",
            "lnx_1 =  2.302585092994046\n"
          ],
          "name": "stdout"
        }
      ]
    },
    {
      "cell_type": "markdown",
      "metadata": {
        "id": "lCxpVic8p1yt"
      },
      "source": [
        "##sin(x)"
      ]
    },
    {
      "cell_type": "code",
      "metadata": {
        "id": "sOHEQ3BXp3wg",
        "outputId": "ff7c5974-e71a-4dc0-ffa3-c767543558b3",
        "colab": {
          "base_uri": "https://localhost:8080/"
        }
      },
      "source": [
        "x = 2\n",
        "sinx = x - x**3/math.factorial(3) + x**5/math.factorial(5) - x**7/math.factorial(7) + x**9/math.factorial(9)\n",
        "print(sinx)"
      ],
      "execution_count": 31,
      "outputs": [
        {
          "output_type": "stream",
          "text": [
            "0.909347442680776\n"
          ],
          "name": "stdout"
        }
      ]
    },
    {
      "cell_type": "code",
      "metadata": {
        "id": "N1lZOJ6rqVbn",
        "outputId": "b3edd74f-a27a-4adc-e75a-749c0b80105b",
        "colab": {
          "base_uri": "https://localhost:8080/"
        }
      },
      "source": [
        "math.sin(2)"
      ],
      "execution_count": 32,
      "outputs": [
        {
          "output_type": "execute_result",
          "data": {
            "text/plain": [
              "0.9092974268256817"
            ]
          },
          "metadata": {
            "tags": []
          },
          "execution_count": 32
        }
      ]
    },
    {
      "cell_type": "code",
      "metadata": {
        "id": "flYVfe1oqZTw",
        "outputId": "1f62abca-1cd9-4b9b-f4ef-2f9bec03d40c",
        "colab": {
          "base_uri": "https://localhost:8080/"
        }
      },
      "source": [
        "x = 2\n",
        "sinx = 0\n",
        "for i in range(10):\n",
        "    sinx += pow(-1,i)*pow(x,2*i+1)/math.factorial(2*i+1) \n",
        "print(sinx)"
      ],
      "execution_count": 33,
      "outputs": [
        {
          "output_type": "stream",
          "text": [
            "0.909297426825641\n"
          ],
          "name": "stdout"
        }
      ]
    },
    {
      "cell_type": "code",
      "metadata": {
        "id": "GXFksHYuqj3h",
        "outputId": "4ff3ebd4-6889-497e-80e5-ec6f756a2dd9",
        "colab": {
          "base_uri": "https://localhost:8080/"
        }
      },
      "source": [
        "\n",
        "\n",
        "x = 10\n",
        "epsilon = 10**(-4)\n",
        "\n",
        "for k in range(1000):\n",
        "  if (((math.sin(x) * pow(-1,k+1)*pow(x,2*(k+1)+1))/math.factorial(2*(k+1)+1))< epsilon):\n",
        "    break\n",
        "print(k)\n",
        "\n",
        "sinx = 0\n",
        "for i in range(k):\n",
        "    print(i,' ',sinx, ' delta ', pow(x,2*i+1)/math.factorial(2*i+1) )\n",
        "    sinx += pow(-1,i)*pow(x,2*i+1)/math.factorial(2*i+1) \n",
        "    \n",
        "print('math.sin(10) = ',math.sin(10))"
      ],
      "execution_count": 34,
      "outputs": [
        {
          "output_type": "stream",
          "text": [
            "1\n",
            "0   0  delta  10.0\n",
            "math.sin(10) =  -0.5440211108893698\n"
          ],
          "name": "stdout"
        }
      ]
    },
    {
      "cell_type": "code",
      "metadata": {
        "id": "fvkkXrzmsuSC",
        "outputId": "610d344a-6d25-48ce-cca1-6dce569c7188",
        "colab": {
          "base_uri": "https://localhost:8080/"
        }
      },
      "source": [
        "x = 10\n",
        "epsilon = 10**(-16)\n",
        "\n",
        "for k in range(1000):\n",
        "  if (  ( (math.sin(90) * pow(-1,k+1)*pow(x,2*(k+1)+1)) / math.factorial(2*(k+1)+1) ) < epsilon):\n",
        "    break\n",
        "print(k)\n",
        "\n",
        "sinx = 0\n",
        "for i in range(k+1):\n",
        "    print(i,' ',sinx, ' delta ', pow(x,2*i+1)/math.factorial(2*i+1) )\n",
        "    sinx += pow(-1,i)*pow(x,2*i+1)/math.factorial(2*i+1)  \n",
        "    \n",
        "print('math.sin(10) = ',math.sin(10))"
      ],
      "execution_count": 35,
      "outputs": [
        {
          "output_type": "stream",
          "text": [
            "0\n",
            "0   0  delta  10.0\n",
            "math.sin(10) =  -0.5440211108893698\n"
          ],
          "name": "stdout"
        }
      ]
    },
    {
      "cell_type": "code",
      "metadata": {
        "id": "tc6ptYQ4tmge",
        "outputId": "8ea08a86-ef7e-446e-89b5-6aaf4dae2ef7",
        "colab": {
          "base_uri": "https://localhost:8080/"
        }
      },
      "source": [
        "x = 10\n",
        "epsilon = 10**(-4)\n",
        "delta = 1\n",
        "sinx = 0\n",
        "i = 0\n",
        "while  epsilon <= delta:\n",
        "  delta = pow(-1,i)*pow(x,2*i+1)/math.factorial(2*i+1) \n",
        "  sinx += delta\n",
        "  i = i+1\n",
        "print(i-1) \n",
        "print('sinx = ',sinx)    \n",
        "print('math.sin(10) = ',math.sin(10))"
      ],
      "execution_count": 36,
      "outputs": [
        {
          "output_type": "stream",
          "text": [
            "1\n",
            "sinx =  -156.66666666666666\n",
            "math.sin(10) =  -0.5440211108893698\n"
          ],
          "name": "stdout"
        }
      ]
    }
  ]
}